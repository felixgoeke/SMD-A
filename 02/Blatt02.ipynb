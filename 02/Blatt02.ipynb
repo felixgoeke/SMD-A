{
 "cells": [
  {
   "cell_type": "markdown",
   "metadata": {},
   "source": [
    "# 2. Exersice Sheet\n",
    "von Celina Kortmann, Felix Göke und Erich Wagner\n",
    "\n",
    "## Exersice 3 - Dice \n",
    "You roll two dice, one red and one blue. What is the probability that  \n",
    "(a) the sum of pips is 9?  \n",
    "Es gibt insgesamt 4 Möglichkeiten, wie die Augenzahl der beiden Würfel 9 ergeben kann. Es gibt die Kombination (3,6) und (4,5) und jeweils andersrum. Da die Wahrscheinlichkeiten unabhängig voneinander sind (der rote Würfel beeinflusst den blauen nicht und andersrum) gilt: $P(A \\wedge B)=P(A) \\cdot P(B)$. Außerdem verwenden wir das 3. Kolmogorov-Axiom.\n",
    "$$\n",
    "\\begin{aligned}\n",
    "P(W_r+W_b=9)&=P(W_r=3 \\wedge W_b=6)+P(W_r=6 \\wedge W_b=3)\\\\\n",
    "&+P(W_r=4 \\wedge W_b=5)+P(W_r=5 \\wedge W_b=4) \\\\\n",
    "&=2\\cdot P(W_r=3 \\wedge W_b=6) + 2\\cdot P(W_r=4 \\wedge W_b=5)\\\\\n",
    "&=2 \\cdot P(W_r=3)\\cdot P(W_b=6)+2 \\cdot P(W_r=4)\\cdot P(W_b=5)\\\\\n",
    "&=2 \\cdot \\frac{1}{6}\\cdot \\frac{1}{6}+2 \\cdot \\frac{1}{6}\\cdot \\frac{1}{6}\\\\\n",
    "&=\\frac{4}{36}=\\frac{1}{9}\n",
    "\\end{aligned}\n",
    "$$\n",
    "(b) the sum of pips is 9 or larger?  \n",
    "Jetzt müssen wir außerdem die Wahrscheinlichkeit dafür betrachten, dass die Augenzahl 10, 11 oder 12 ist und dann die Summe bilden. Für $W_{ges}=12$ gibt es 1 Möglichkeit, für $W_{ges}=11$ gibt es 2 Möglichkeiten. Für $W_{ges}=10$ gibt es 3 Möglichkeiten.\n",
    "$$\n",
    "\\begin{aligned}\n",
    "P(W_r+W_b \\geq 9)=&P(W_r+W_b=9)+P(W_r+W_b=10)+P(W_r+W_b=11)+P(W_r+W_b=12) \\\\\n",
    "&=\\frac{4}{36}+\\frac{3}{36}+\\frac{2}{36}+\\frac{1}{36} \\\\\n",
    "&=\\frac{10}{36}\n",
    "\\end{aligned}\n",
    "$$\n",
    "(c) one dice shows 4 and the other 5 pips?\n",
    "$$\n",
    "\\begin{aligned}\n",
    "P((W_r=4 \\wedge W_b=5) \\vee (W_r=5 \\wedge W_b=4))&=P(W_r=4 \\wedge W_b=5) + P(W_r=5 \\wedge W_b=4) \\\\\n",
    "&= P(W_r=4) \\cdot P(W_b=5) + P(W_r=5) \\cdot P(W_b=4) \\\\\n",
    "&= \\frac{1}{6} \\cdot \\frac{1}{6} + \\frac{1}{6} \\cdot \\frac{1}{6} \\\\\n",
    "&= \\frac{2}{36} \\\\\n",
    "&= \\frac{1}{18}\n",
    "\\end{aligned}\n",
    "$$\n",
    "(d) the red dice shows 4 and the blue dice 5 pips?\n",
    "$$\n",
    "\\begin{aligned}\n",
    "P(W_r=4 \\wedge W_b=5)&= P(W_r=4) \\cdot P(W_b=5) \\\\\n",
    "&=\\frac{1}{6}\\cdot \\frac{1}{6} \\\\\n",
    "&= \\frac{1}{36}\n",
    "\\end{aligned}\n",
    "$$\n"
   ]
  },
  {
   "cell_type": "markdown",
   "metadata": {},
   "source": [
    "Your roll the dice so that the blue dice rolls behind an object so that you cant see it first. The red dice shows a 4. After you have seen this, what is the prabability that  \n",
    "(e) the sum of pips is nine?  \n",
    "Wenn wir wissen, dass der rote Würfel eine 4 zeigt, dann suchen wir nach der Wahrscheinlichkeit, dass der blaue Würfel eine 5 zeigt, damit die Gesamtaugenzahl 9 ist. Da die Wahrscheinlichkeiten unabhängig voneinander sind, folgt:\n",
    "$$\n",
    "P(W_b=5| W_r=4)=P(W_b=5)=\\frac{1}{6}\n",
    "$$"
   ]
  },
  {
   "cell_type": "markdown",
   "metadata": {},
   "source": [
    "(f) the sum of pips is 9 or larger?  \n",
    "$$\n",
    "\\begin{aligned}\n",
    "P(W_b\\geq 5|W_r=4)&=P(W_b \\geq 5) \\\\\n",
    "&=P(W_b=5 \\vee W_b=6) \\\\\n",
    "&=P(W_b=5)+P(W_b=6) \\\\\n",
    "&=\\frac{1}{6}+\\frac{1}{6} \\\\\n",
    "&=\\frac{2}{6}\\\\\n",
    "&=\\frac{1}{3}\n",
    "\\end{aligned}\n",
    "$$"
   ]
  },
  {
   "cell_type": "markdown",
   "metadata": {},
   "source": [
    "(g) the red dice shows 4 and the blue dice 5 pips?  \n",
    "This is the same as (e), weil $W_b=5$ gleichbedeutend mit einer Gesamtaugenzahl von 9 ist, mit dem Wissen, dass der rote Würfel eine 4 zeigt, was unsere Annahme für die Aufgabenteile (e), (f) und (g) ist."
   ]
  },
  {
   "cell_type": "markdown",
   "metadata": {},
   "source": [
    "## Exercise 4 - Maxwell velocity distribution \n",
    "The probability density of the magnitude of the velocity 𝑣 of the molecules in an ideal gas at the\n",
    "absolute temperature 𝑇 is given by\n",
    "$$\n",
    "f(v)=N\\cdot \\exp \\left( -\\frac{m v^2}{2k_B T} \\right) \\cdot 4 \\pi v^2,\n",
    "$$\n",
    "where 𝑚 is the molecular mass, $k_B$\n",
    "is the Boltzmann constant, and 𝑁 is the normalization constant."
   ]
  },
  {
   "cell_type": "markdown",
   "metadata": {},
   "source": [
    "Zunächst muss die Teilchenzahl bestimmt werden, als Funktion von $m$ und $T$. Es gilt:\n",
    "$$\n",
    "\\int_{0}^{\\infty} f(v)dv=1,\n",
    "$$\n",
    "da die sichere Wahrscheinlichkeit 1 sein muss. Aus dieser Normierungsbedingung ergibt sich für N in drei Dimensionen:\n",
    "$$\n",
    "N=\\left(\\frac{m}{2 \\pi k_B T}\\right)^{3/2}\n",
    "$$\n",
    "Für die Maxwellverteilung gilt somit\n",
    "$$\n",
    "f(v)=4\\pi \\left(\\frac{m}{2 \\pi k_B T}\\right)^{3/2}\\cdot \\exp \\left( -\\frac{m v^2}{2k_B T} \\right) \\cdot  v^2"
   ]
  },
  {
   "cell_type": "markdown",
   "metadata": {},
   "source": [
    "\n",
    "(a) How big is the most probable velocity $v_m$?  \n",
    "Die Geschwindigkeit mit der größten Wahrscheinlichkeit ist das Maximum der Maxwellverteilung und folgt somit aus der Gleichung $df(v)/dv=0$. Bevor diese Rechnung durchgeführt wird, führen wir die Variable $a=\\frac{m}{2 k_B T}$ ein, damit ergibt sich:\n",
    "$$\n",
    "\\begin{aligned}\n",
    "0&=\\frac{d}{dv}\\left( \\frac{4}{\\sqrt{\\pi}} \\cdot a^{3/2} \\cdot \\exp(-av^2) \\cdot v^2 \\right) \\\\\n",
    "&= \\frac{4}{\\sqrt{\\pi}} \\cdot a^{3/2} \\frac{d}{dv}\\left(\\exp(-av^2) \\cdot v^2 \\right) \\\\\n",
    "&= \\frac{4}{\\sqrt{\\pi}} \\cdot a^{3/2} \\left(   -2av\\exp(-av^2)v^2 + 2v\\exp(-av^2)  \\right) \\\\\n",
    "&= \\frac{4}{\\sqrt{\\pi}} \\cdot a^{3/2} \\cdot \\exp(-av^2) (1-av^2) \\cdot 2v\n",
    "\\end{aligned}\n",
    "$$\n",
    "Also ist das Maximum erreicht für $v_m=\\sqrt{1/a}=\\sqrt{\\frac{2 k_B T}{m}}$."
   ]
  },
  {
   "cell_type": "markdown",
   "metadata": {},
   "source": [
    "Die Funktion kann nun umgeschrieben werden zu:\n",
    "$$\n",
    "f(v)=\\frac{4}{\\sqrt{\\pi}} \\cdot \\frac{v^2}{v_m^3} \\exp\\left(-\\frac{v^2}{v_m^2}\\right)\n",
    "$$"
   ]
  },
  {
   "cell_type": "markdown",
   "metadata": {},
   "source": [
    "(b) How big is the mean of the velocity $\\braket{v}$?  \n",
    "$$\n",
    "\\begin{aligned}\n",
    "\\braket{v}=\\int_0^\\infty f(v)vdv &= \\frac{4}{\\sqrt{\\pi}} v_m^{-3} \\int_0^\\infty \\exp(-\\frac{v^2}{v_m^2}) v^3 dv \\\\\n",
    "&=\\frac{4}{\\sqrt{\\pi}} v_m^{-3} \\cdot \\frac{1}{2} \\Gamma(2) \\cdot (v_m^2)^2 \\\\\n",
    "&=\\frac{2}{\\sqrt{\\pi}}v_m\n",
    "\\end{aligned}\n",
    "$$"
   ]
  },
  {
   "cell_type": "markdown",
   "metadata": {},
   "source": [
    "(c) How big is the median of the velocity $v_{0.5}$?  \n",
    "Gesucht ist \n",
    "$$\n",
    "\\begin{aligned}\n",
    "F(v_{0.5})&=\\int_{-\\infty}^{v_{0.5}}f(v)dv=0.5 \\\\\n",
    "0&=\\text{erf}(\\beta)-\\frac{2}{\\sqrt{\\pi}}\\cdot \\beta \\cdot  \\exp{(-\\beta^2)}-0.5\n",
    "\\end{aligned}\n",
    "$$\n",
    "mit $\\beta=v_{0.5}/v_m$."
   ]
  },
  {
   "cell_type": "code",
   "execution_count": 7,
   "metadata": {},
   "outputs": [],
   "source": [
    "import numpy as np\n",
    "import matplotlib.pyplot as plt\n",
    "import scipy as sc\n",
    "from scipy import special\n",
    "from scipy import optimize \n",
    "def f(x):\n",
    "    return special.erf(x) -2/np.sqrt(np.pi)*x*np.exp(-x**2)- 1/2"
   ]
  },
  {
   "cell_type": "code",
   "execution_count": 8,
   "metadata": {},
   "outputs": [
    {
     "name": "stdout",
     "output_type": "stream",
     "text": [
      "Der Median der Geschwindigkeitsverteilung ist 1.088 mal v_m\n"
     ]
    }
   ],
   "source": [
    "median=sc.optimize.root_scalar(f, x0=0, x1=1).root\n",
    "print(f'Der Median der Geschwindigkeitsverteilung ist {median:.3f} mal v_m')"
   ]
  },
  {
   "cell_type": "markdown",
   "metadata": {},
   "source": [
    "Somit ist der Median der Geschwindigkeit $v_{0.5}\\approx 1.088 \\cdot v_m$."
   ]
  },
  {
   "cell_type": "markdown",
   "metadata": {},
   "source": [
    "(d) How big is the full width at half height of the distribution $(v_\\text{FWHM})$?  \n",
    "Die halbe Höhe entspricht $f(v)=0.5\\cdot f(v_m)$. \n",
    "$$\n",
    "0.5 \\cdot f(v_m)= \\frac{2}{\\sqrt{\\pi}} v_m^{-3} \\exp(-\\frac{v_m^2}{v_m^2}) v_m^2=\\frac{2}{\\sqrt{\\pi}v_m} \\exp(-1)\n",
    "$$\n",
    "Daraus folgt: \n",
    "$$\n",
    "\\begin{aligned}\n",
    "0&= \\frac{4}{\\sqrt{\\pi}} v_m^{-3} \\exp(-\\frac{v_w^2}{v_m^2}) v_w^2 - \\frac{2}{\\sqrt{\\pi}v_m} \\exp(-1) \\\\\n",
    "\\Rightarrow 0&=2 \\gamma^2 \\exp(-\\gamma^2)-\\exp(-1)\n",
    "\\end{aligned}\n",
    "$$\n",
    "mit $\\gamma=v_w/v_m$."
   ]
  },
  {
   "cell_type": "code",
   "execution_count": 9,
   "metadata": {},
   "outputs": [
    {
     "name": "stdout",
     "output_type": "stream",
     "text": [
      "Die linke Punkt ist 0.482 mal v_m\n",
      "Der rechte Punkt ist 1.637 mal v_m\n",
      "Daraus ergibt sich eine breite von 1.155 mal v_m\n"
     ]
    }
   ],
   "source": [
    "def g(x):\n",
    "    return (2*x**2*np.exp(-(x)**2)-np.exp(-1))\n",
    "\n",
    "v_w1=sc.optimize.root_scalar(g, x0=0, x1=1.1).root\n",
    "v_w2=sc.optimize.root_scalar(g, x0=1, x1=2).root\n",
    "print(f'Die linke Punkt ist {v_w1:.3f} mal v_m')\n",
    "print(f'Der rechte Punkt ist {v_w2:.3f} mal v_m')\n",
    "print(f'Daraus ergibt sich eine breite von {(v_w2-v_w1):.3f} mal v_m')"
   ]
  },
  {
   "cell_type": "markdown",
   "metadata": {},
   "source": [
    "(e) How big is the standard deviation of the velocity $\\sigma_v$?  \n",
    "Die Standardabweichung ist die Wurzel aus der Varianz, welcehe sich durch\n",
    "$$\n",
    "\\text{Var}(V)=E[V^2]-E[V]^2=\\sigma^2(V)\n",
    "$$\n",
    "berechnen lässt. Der Erwartungswert ist $E[V]=\\braket{v}=\\frac{2}{\\sqrt{\\pi}} v_m$. Somit muss noch $E[V^2]$ berechnet werden.\n",
    "$$\n",
    "\\begin{aligned}\n",
    "E[V^2]&=\\frac{4}{\\sqrt{\\pi}v_m^3} \\int_0^\\infty v^4 \\exp(-\\frac{v^2}{v_m^2})dv \\\\\n",
    "&=\\frac{4}{\\sqrt{\\pi}v_m^3} \\cdot \\frac{1}{2} \\frac{\\Gamma(2+1/2)}{(v_m^{-2})^{2+1/2}} \\\\\n",
    "&=\\frac{4}{\\sqrt{\\pi}v_m^3} \\cdot \\frac{1}{2} \\cdot \\frac{3}{4} \\sqrt{\\pi} v_m^{5}\\\\\n",
    "&=\\frac{3}{2} v_m^2 \n",
    "\\end{aligned}\n",
    "$$\n",
    "Somit ergibt sich für die Standardabweichung:\n",
    "$$\n",
    "\\begin{aligned}\n",
    "\\Rightarrow \\sigma^2&=\\frac{3}{2} v_m^2 -v_m^2 =\\frac{1}{2}v_m^2 \\\\\n",
    "\\Rightarrow \\sigma&=\\frac{1}{4}v_m\n",
    "\\end{aligned}\n",
    "$$"
   ]
  }
 ],
 "metadata": {
  "kernelspec": {
   "display_name": "smd",
   "language": "python",
   "name": "python3"
  },
  "language_info": {
   "codemirror_mode": {
    "name": "ipython",
    "version": 3
   },
   "file_extension": ".py",
   "mimetype": "text/x-python",
   "name": "python",
   "nbconvert_exporter": "python",
   "pygments_lexer": "ipython3",
   "version": "3.12.3"
  }
 },
 "nbformat": 4,
 "nbformat_minor": 2
}
