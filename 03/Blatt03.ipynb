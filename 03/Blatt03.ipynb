{
 "cells": [
  {
   "cell_type": "markdown",
   "metadata": {},
   "source": [
    "# 3. Exercise Sheet\n",
    "von Celina Kortmann, Felix Göke und Erich Wagner"
   ]
  },
  {
   "cell_type": "markdown",
   "metadata": {},
   "source": [
    "## Exercise 5 Random number generator\n",
    "(b) Determine the period length for different values for a by using the class you implemented with c=3 and m=1024.  \n",
    "What is the maximum period length?  \n",
    "For which values of a is the period length the longest?  \n",
    "\n"
   ]
  },
  {
   "cell_type": "code",
   "execution_count": 4,
   "metadata": {},
   "outputs": [],
   "source": [
    "import numpy as np\n",
    "from project_a3.random import LCG"
   ]
  },
  {
   "cell_type": "code",
   "execution_count": 11,
   "metadata": {},
   "outputs": [
    {
     "name": "stdout",
     "output_type": "stream",
     "text": [
      "a=1\n",
      "nums=[  3   6   9 ... 298 301 304]\n",
      "period length=[1024 1024 1024 1024 1024 1024 1024 1024 1024] \n",
      "\n",
      "a=2\n",
      "nums=[   3    9   21 ... 1021 1021 1021]\n",
      "period length=[] \n",
      "\n",
      "a=3\n",
      "nums=[  3  12  39 ... 820 415 224]\n",
      "period length=[512 512 512 512 512 512 512 512 512 512 512 512 512 512 512 512 512 512\n",
      " 512] \n",
      "\n",
      "a=4\n",
      "nums=[   3   15   63 ... 1023 1023 1023]\n",
      "period length=[] \n",
      "\n",
      "a=5\n",
      "nums=[  3  18  93 ... 110 553 720]\n",
      "period length=[1024 1024 1024 1024 1024 1024 1024 1024 1024] \n",
      "\n",
      "a=6\n",
      "nums=[  3  21 129 ... 409 409 409]\n",
      "period length=[] \n",
      "\n",
      "a=7\n",
      "nums=[  3  24 171 ... 808 539 704]\n",
      "period length=[256 256 256 256 256 256 256 256 256 256 256 256 256 256 256 256 256 256\n",
      " 256 256 256 256 256 256 256 256 256 256 256 256 256 256 256 256 256 256\n",
      " 256 256 256] \n",
      "\n",
      "a=8\n",
      "nums=[  3  27 219 ... 731 731 731]\n",
      "period length=[] \n",
      "\n",
      "a=9\n",
      "nums=[  3  30 273 ... 178 581 112]\n",
      "period length=[1024 1024 1024 1024 1024 1024 1024 1024 1024] \n",
      "\n"
     ]
    }
   ],
   "source": [
    "a = range (1,10)\n",
    "for a in a:\n",
    "    lcg=LCG(seed=0, a=a, c=3, m=1024)\n",
    "    nums=lcg.random_raw(size=10000) #size should be bigger than m\n",
    "    period_length=np.diff(np.where(nums==nums[0])[0])\n",
    "    print(f'a={a}')\n",
    "    print(f'nums={nums}')\n",
    "    print(f'period length={period_length} \\n')"
   ]
  },
  {
   "cell_type": "markdown",
   "metadata": {},
   "source": [
    "The lecture tells us, that the maximum length is given by m. We can see this for a=1. This maximal period length can only be obtainedi when:\n",
    "1. $c \\neq 0$ (holds true since we set $c=3$)\n",
    "2. $c$ and $m$ are coprime:\n",
    "Since $c=3$ and $m=1024$ there are no common factors (other than 1) what means that the statement is true.\n",
    "3. each prime factor of $m$ divides $(a-1)$:  \n",
    "the only prime factors of $m$ is 2. We search for a's with $(a-1)\\mod 2 = 0$\n",
    "4. if $m$ is divisble by 4, so is $(a-1)$:  \n",
    "since every number that is divisble by 4 is also divisible by 2 we obtain the maximal period length if  \n",
    "$(a-1)\\mod 4=0$"
   ]
  },
  {
   "cell_type": "code",
   "execution_count": 10,
   "metadata": {},
   "outputs": [
    {
     "name": "stdout",
     "output_type": "stream",
     "text": [
      "[1, 5, 9, 13, 17, 21, 25, 29, 33, 37, 41, 45, 49, 53, 57, 61, 65, 69, 73, 77, 81, 85, 89, 93, 97] and so on\n"
     ]
    }
   ],
   "source": [
    "a=range(1,100)\n",
    "max_period_length=[]\n",
    "for a in a:\n",
    "    if (a-1)%4==0:\n",
    "        max_period_length.append(a)\n",
    "print(max_period_length, 'and so on')"
   ]
  },
  {
   "cell_type": "markdown",
   "metadata": {},
   "source": [
    "We can see, that our \"theoretical statement\" can be obtain above where the period length is $1024$ for $a \\in 1,5,9$."
   ]
  }
 ],
 "metadata": {
  "kernelspec": {
   "display_name": "smd",
   "language": "python",
   "name": "python3"
  },
  "language_info": {
   "codemirror_mode": {
    "name": "ipython",
    "version": 3
   },
   "file_extension": ".py",
   "mimetype": "text/x-python",
   "name": "python",
   "nbconvert_exporter": "python",
   "pygments_lexer": "ipython3",
   "version": "3.12.3"
  }
 },
 "nbformat": 4,
 "nbformat_minor": 2
}
