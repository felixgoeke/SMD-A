{
 "cells": [
  {
   "cell_type": "markdown",
   "metadata": {},
   "source": [
    "## Abgabe SMD A Blatt 01\n",
    "von Celina Kortmann, Felix Göke und"
   ]
  },
  {
   "cell_type": "code",
   "execution_count": 1,
   "metadata": {},
   "outputs": [],
   "source": [
    "import numpy as np\n",
    "import matplotlib.pyplot as plt"
   ]
  },
  {
   "cell_type": "markdown",
   "metadata": {},
   "source": [
    "# Blatt 1\n",
    "## Exercise 1 - Numerical Stability\n",
    "\n",
    "Betrachten Sie die Funktionen\n",
    "(a) $f(x)=(x^3+1/3)-(x^3-1/3)$\n",
    "(b) $g(x)=((3+x^3/3)-(3-x^3/3))/x^3$ .\n",
    "Determine empirically for which ranges of $x$ (roughly) the numerical result \n",
    "* deviates from the algebraic by more than 1%,\n",
    "* is equal to zero \n",
    "\n",
    "The algebraic result is:\n",
    "$f(x)=g(x)=\\frac{2}{3}"
   ]
  },
  {
   "cell_type": "code",
   "execution_count": 2,
   "metadata": {},
   "outputs": [],
   "source": [
    "f = lambda x: (x**3+1/3)-(x**3-1/3) #kurze anonyme funktion\n",
    "g = lambda x: ((3+x**3/3)-(3-x**3/3))/x**3\n",
    "exact = 2/3"
   ]
  }
 ],
 "metadata": {
  "kernelspec": {
   "display_name": "smd",
   "language": "python",
   "name": "python3"
  },
  "language_info": {
   "codemirror_mode": {
    "name": "ipython",
    "version": 3
   },
   "file_extension": ".py",
   "mimetype": "text/x-python",
   "name": "python",
   "nbconvert_exporter": "python",
   "pygments_lexer": "ipython3",
   "version": "3.12.3"
  }
 },
 "nbformat": 4,
 "nbformat_minor": 2
}
