{
 "cells": [
  {
   "cell_type": "markdown",
   "metadata": {},
   "source": [
    "# SMD Python Hands On"
   ]
  },
  {
   "cell_type": "code",
   "execution_count": null,
   "metadata": {},
   "outputs": [],
   "source": [
    "from IPython.display import display, HTML\n",
    "display(HTML(\"<style>.container { width: 95% !important; }</style>\"))"
   ]
  },
  {
   "cell_type": "markdown",
   "metadata": {},
   "source": [
    "## Basics\n",
    "\n",
    "Not really the topic of today, these are good starting materials:\n",
    "\n",
    "* [PeP et al. Toolbox Workshop (German)](https://toolbox.pep-dortmund.org) \n",
    "* [Scientific Python Notebooks](https://github.com/maxnoe/scientific_python_notebooks)\n",
    "* [A Byte Of Python](https://python.swaroopch.com/)\n",
    "\n",
    "Especially for the Data Mining part, but a generally a very good resource:\n",
    "* [The Python Data Science Handbook](https://jakevdp.github.io/PythonDataScienceHandbook/)\n",
    "\n",
    "Introduction to Git from the 2021 Escape School:\n",
    "* https://www.youtube.com/watch?v=R2BCOtPwtXc\n",
    "* https://www.youtube.com/watch?v=ZEcklfIp6Og"
   ]
  },
  {
   "cell_type": "markdown",
   "metadata": {},
   "source": [
    "## Style Guide and Linter\n",
    "\n",
    "* For python code, there is a generally accepted style guide: pep8. Follow it!\n",
    "\n",
    "* The `ruff` tool checks for syntactical errors and style guide violations.\n",
    "    \n",
    "* Autoformatter\n",
    "    * `ruff format` reformats files so they follow the style guide → not have to think about it anymore\n",
    "    \n",
    "* All good editors support linter, autocompletion, etc., recommendation would be VS Code (or VS Codium):\n",
    "  * VS Code: https://marketplace.visualstudio.com/items?itemName=ms-python.python"
   ]
  },
  {
   "cell_type": "markdown",
   "metadata": {},
   "source": [
    "## conda environments\n",
    "\n",
    "* Different projects might need different versions of python and libraries\n",
    "* Best practice: isolated environemnt with fixed versions\n",
    "* Using conda: conda environments\n",
    "* Conda environments can be specified in text files listing needed packages and their versions \n",
    "* Download in Moodle: `environment.yml`.\n",
    "\n",
    "* conda can be slow when installing or updating packages. Mamba is a much better and faster alternative:\n",
    "    * If you have followed the toolbox guide in the last year, you already have `mamba`.\n",
    "    * For a fresh installation, download and install `miniforge3` here:  \n",
    "      <https://github.com/conda-forge/miniforge#mambaforge>\n",
    "  \n",
    "\n",
    "Create a new environment using the definition file:\n",
    "\n",
    "```\n",
    "$ mamba env create -f environment.yml\n",
    "```\n",
    "\n",
    "To use the environment:\n",
    "```\n",
    "$ mamba activate smd\n",
    "```\n",
    "\n",
    "Your python / ipython / jupyter should now come from this environment:\n",
    "```\n",
    "$ which python\n",
    "/home/maxnoe/.local/conda/envs/smd/bin/python\n",
    "```"
   ]
  },
  {
   "cell_type": "markdown",
   "metadata": {},
   "source": [
    "## numpy\n",
    "\n",
    "Short reminder of the most important numpy features for SMD\n",
    "\n",
    "* Python is a dynamic, interpreted language. \n",
    "    * Easy to use\n",
    "    * Powerful\n",
    "    * Slow (large overhead, especially for simple numerical operations)\n",
    "    \n",
    "* Numpy is a library providing an efficient array implementation and access to fast code through compiled C++/C/Cython/Fortran code  \n",
    "   ⇒ Application to large arrays as a whole or element-wise (vectorization)  \n",
    "   ⇒ Rule of thumb: no for-loops over numpy arrays\n",
    "   \n",
    "* Many features for data analysis, random numbers, linear algebra, ...\n",
    "\n",
    "* \"Naïve\" python code being slow is one of the main criticisms of the language, especially for its use in science.\n",
    "\n",
    "* Despite that, it is now the most commonly used language for data analysis.\n",
    "\n",
    "* Most \"hot\" code is not actually python, but compiled code like numpy. Python is \"the glue\".\n",
    "\n",
    "* There are several ways of making python code faster (e.g. numba, cython, ...) or replace it completely (Julia, C++, ...)"
   ]
  },
  {
   "cell_type": "code",
   "execution_count": 2,
   "metadata": {},
   "outputs": [],
   "source": [
    "import numpy as np"
   ]
  },
  {
   "cell_type": "markdown",
   "metadata": {},
   "source": [
    "## Data Types\n",
    "\n",
    "Numpy supports many different data types, most important are probably these three\n",
    "\n",
    "* bool: True / False\n",
    "* int64: 64-Bit signed integer\n",
    "* float64: 64-Bit floating point number\n",
    "\n",
    "More on data types and how they work in the next lecture, \"Numerical Foundations\""
   ]
  },
  {
   "cell_type": "code",
   "execution_count": 3,
   "metadata": {},
   "outputs": [
    {
     "name": "stdout",
     "output_type": "stream",
     "text": [
      "float64 int64 bool\n"
     ]
    }
   ],
   "source": [
    "# numpy arrays from python lists\n",
    "floats = np.array([1.0, 3.14, 1e3])\n",
    "ints = np.array([1, 2, 3])\n",
    "bools = np.array([True, False, True])\n",
    "\n",
    "print(floats.dtype, ints.dtype, bools.dtype)"
   ]
  },
  {
   "cell_type": "markdown",
   "metadata": {},
   "source": [
    "### Basic properties of numpy arrays"
   ]
  },
  {
   "cell_type": "code",
   "execution_count": 4,
   "metadata": {},
   "outputs": [
    {
     "name": "stdout",
     "output_type": "stream",
     "text": [
      "len(a)=3, a.size=3, a.ndim=1, a.shape=(3,), a.dtype=float64\n",
      "len(a)=2, a.size=6, a.ndim=2, a.shape=(2, 3), a.dtype=int64\n"
     ]
    }
   ],
   "source": [
    "array2d = np.array([\n",
    "    [1, 2, 3],\n",
    "    [4, 5, 6]\n",
    "])\n",
    "\n",
    "def array_info(a):\n",
    "    print(f'{len(a)=}, {a.size=}, {a.ndim=}, {a.shape=}, {a.dtype=!s}')\n",
    "\n",
    "array_info(floats)\n",
    "array_info(array2d)"
   ]
  },
  {
   "cell_type": "markdown",
   "metadata": {},
   "source": [
    "### Indexing & Masks\n",
    "\n",
    "Numpy arrays can be indexed using (collections of) integers, slices or boolean masks"
   ]
  },
  {
   "cell_type": "code",
   "execution_count": 5,
   "metadata": {},
   "outputs": [
    {
     "data": {
      "text/plain": [
       "array([ 1. , -3.5, 42. , -5. ])"
      ]
     },
     "execution_count": 5,
     "metadata": {},
     "output_type": "execute_result"
    }
   ],
   "source": [
    "a = np.array([1.0, -3.5, 42, -5])\n",
    "a"
   ]
  },
  {
   "cell_type": "code",
   "execution_count": 6,
   "metadata": {},
   "outputs": [
    {
     "data": {
      "text/plain": [
       "(1.0, -5.0, array([-3.5, 42. ]), array([ 1., 42.]))"
      ]
     },
     "execution_count": 6,
     "metadata": {},
     "output_type": "execute_result"
    }
   ],
   "source": [
    "a[0], a[-1], a[1:-1], a[::2]"
   ]
  },
  {
   "cell_type": "code",
   "execution_count": 7,
   "metadata": {},
   "outputs": [
    {
     "data": {
      "text/plain": [
       "array([ True, False,  True, False])"
      ]
     },
     "execution_count": 7,
     "metadata": {},
     "output_type": "execute_result"
    }
   ],
   "source": [
    "a > 0"
   ]
  },
  {
   "cell_type": "code",
   "execution_count": 8,
   "metadata": {},
   "outputs": [
    {
     "data": {
      "text/plain": [
       "array([ 1., 42.])"
      ]
     },
     "execution_count": 8,
     "metadata": {},
     "output_type": "execute_result"
    }
   ],
   "source": [
    "a[a > 0]"
   ]
  },
  {
   "cell_type": "code",
   "execution_count": 9,
   "metadata": {},
   "outputs": [
    {
     "data": {
      "text/plain": [
       "array([ 1. , -3.5, -5. ])"
      ]
     },
     "execution_count": 9,
     "metadata": {},
     "output_type": "execute_result"
    }
   ],
   "source": [
    "# parentheses are needed here\n",
    "# | = or\n",
    "# & = and\n",
    "# ~ = not\n",
    "\n",
    "a[(a > -10) & (a < 10)]"
   ]
  },
  {
   "cell_type": "markdown",
   "metadata": {},
   "source": [
    "### The axis keyword\n",
    "\n",
    "Important for aggregating operations (e.g. `np.sum`, `np.mean`, `np.prod`, `np.std`)"
   ]
  },
  {
   "cell_type": "code",
   "execution_count": 10,
   "metadata": {},
   "outputs": [
    {
     "data": {
      "text/plain": [
       "array([[ 0,  1,  2],\n",
       "       [ 3,  4,  5],\n",
       "       [ 6,  7,  8],\n",
       "       [ 9, 10, 11]])"
      ]
     },
     "execution_count": 10,
     "metadata": {},
     "output_type": "execute_result"
    }
   ],
   "source": [
    "X = np.arange(12).reshape(4, 3)\n",
    "X"
   ]
  },
  {
   "cell_type": "code",
   "execution_count": 11,
   "metadata": {},
   "outputs": [
    {
     "data": {
      "text/plain": [
       "66"
      ]
     },
     "execution_count": 11,
     "metadata": {},
     "output_type": "execute_result"
    }
   ],
   "source": [
    "np.sum(X)"
   ]
  },
  {
   "cell_type": "code",
   "execution_count": 12,
   "metadata": {},
   "outputs": [
    {
     "data": {
      "text/plain": [
       "array([18, 22, 26])"
      ]
     },
     "execution_count": 12,
     "metadata": {},
     "output_type": "execute_result"
    }
   ],
   "source": [
    "np.sum(X, axis=0)"
   ]
  },
  {
   "cell_type": "markdown",
   "metadata": {},
   "source": [
    "### Broadcasting\n",
    "\n",
    "Docs: https://numpy.org/doc/stable/user/basics.broadcasting.html\n",
    "\n",
    "Using \"broadcasting\", numpy can apply element-wise calculations to arrays of different sizes, if the shapes are *compatible*\n",
    "\n",
    "* The last, overlapping dimensions must be *compatible*\n",
    "\n",
    "* Compatible means\n",
    "\n",
    "    * both dimensions are the same\n",
    "    * or one dimension is 1\n",
    "\n",
    "\n",
    "Examples:\n",
    "* shape `(3, 2, 2)` is compatible with shape `(2, 2)`, the last dimensions are the same \n",
    "* shape `(3, 2, 2)` is compatible with shape `(1, 2)`, since the last dimensions are either the same, or one of them is 1\n",
    "* shape `(3, 2, 2)` is not compatible with shape `(3, 2)`, as last dimensions are note the same (the first ones are though) \n",
    "* shape `(3, 2, 2)` is compatible with `(3, 2, 1)` since all dimensions are equal or 1\n",
    "\n",
    "A a new dimension of size `1` can easily be inserted into any array using `np.newaxis`, making shapes compatible, see below"
   ]
  },
  {
   "cell_type": "code",
   "execution_count": 13,
   "metadata": {},
   "outputs": [],
   "source": [
    "a = np.arange(12).reshape(4, 3)\n",
    "b = 5\n",
    "c = np.arange(3)\n",
    "d = np.arange(4)"
   ]
  },
  {
   "cell_type": "code",
   "execution_count": 14,
   "metadata": {},
   "outputs": [
    {
     "data": {
      "text/plain": [
       "((4, 3), (3,), (4,))"
      ]
     },
     "execution_count": 14,
     "metadata": {},
     "output_type": "execute_result"
    }
   ],
   "source": [
    "a.shape, c.shape, d.shape"
   ]
  },
  {
   "cell_type": "code",
   "execution_count": 15,
   "metadata": {},
   "outputs": [
    {
     "data": {
      "text/plain": [
       "array([[-5, -4, -3],\n",
       "       [-2, -1,  0],\n",
       "       [ 1,  2,  3],\n",
       "       [ 4,  5,  6]])"
      ]
     },
     "execution_count": 15,
     "metadata": {},
     "output_type": "execute_result"
    }
   ],
   "source": [
    "a - b"
   ]
  },
  {
   "cell_type": "code",
   "execution_count": 16,
   "metadata": {},
   "outputs": [
    {
     "data": {
      "text/plain": [
       "array([[0, 0, 0],\n",
       "       [3, 3, 3],\n",
       "       [6, 6, 6],\n",
       "       [9, 9, 9]])"
      ]
     },
     "execution_count": 16,
     "metadata": {},
     "output_type": "execute_result"
    }
   ],
   "source": [
    "a - c"
   ]
  },
  {
   "cell_type": "code",
   "execution_count": 17,
   "metadata": {},
   "outputs": [
    {
     "ename": "ValueError",
     "evalue": "operands could not be broadcast together with shapes (4,3) (4,) ",
     "output_type": "error",
     "traceback": [
      "\u001b[0;31m---------------------------------------------------------------------------\u001b[0m",
      "\u001b[0;31mValueError\u001b[0m                                Traceback (most recent call last)",
      "Cell \u001b[0;32mIn[17], line 2\u001b[0m\n\u001b[1;32m      1\u001b[0m \u001b[38;5;66;03m# this error is expected\u001b[39;00m\n\u001b[0;32m----> 2\u001b[0m \u001b[43ma\u001b[49m\u001b[43m \u001b[49m\u001b[38;5;241;43m-\u001b[39;49m\u001b[43m \u001b[49m\u001b[43md\u001b[49m\n",
      "\u001b[0;31mValueError\u001b[0m: operands could not be broadcast together with shapes (4,3) (4,) "
     ]
    }
   ],
   "source": [
    "# this error is expected\n",
    "a - d"
   ]
  },
  {
   "cell_type": "markdown",
   "metadata": {},
   "source": [
    "we can add a new dimension of size 1 at the and to make the shapes compatible:"
   ]
  },
  {
   "cell_type": "code",
   "execution_count": 18,
   "metadata": {},
   "outputs": [
    {
     "data": {
      "text/plain": [
       "((4, 3), (4,), (4, 1))"
      ]
     },
     "execution_count": 18,
     "metadata": {},
     "output_type": "execute_result"
    }
   ],
   "source": [
    "a.shape, d.shape, d[:, np.newaxis].shape"
   ]
  },
  {
   "cell_type": "code",
   "execution_count": 19,
   "metadata": {},
   "outputs": [
    {
     "data": {
      "text/plain": [
       "array([[0, 1, 2],\n",
       "       [2, 3, 4],\n",
       "       [4, 5, 6],\n",
       "       [6, 7, 8]])"
      ]
     },
     "execution_count": 19,
     "metadata": {},
     "output_type": "execute_result"
    }
   ],
   "source": [
    "a - d[:, np.newaxis]"
   ]
  },
  {
   "cell_type": "markdown",
   "metadata": {},
   "source": [
    "### Performance example: Loops vs. Numpy vs. Numba"
   ]
  },
  {
   "cell_type": "markdown",
   "metadata": {},
   "source": [
    "Task: Find closest point to a reference point in a list of points"
   ]
  },
  {
   "cell_type": "code",
   "execution_count": 20,
   "metadata": {},
   "outputs": [],
   "source": [
    "point = (0, 1)\n",
    "\n",
    "points = [\n",
    "    (0, 0),\n",
    "    (0.5, -0.5),\n",
    "    (1, -1),\n",
    "    (0, 2),\n",
    "    (0, 1.1),\n",
    "    (-2, 3),\n",
    "    (5, 1),\n",
    "    (10, 4),\n",
    "    (-4, 2),\n",
    "    (-3, 0),\n",
    "] * 1000"
   ]
  },
  {
   "cell_type": "markdown",
   "metadata": {},
   "source": [
    "#### Pure python using a for-loop over a list of tuples and the math module:"
   ]
  },
  {
   "cell_type": "code",
   "execution_count": null,
   "metadata": {},
   "outputs": [],
   "source": [
    "import math\n",
    "\n",
    "\n",
    "def distance(p1, p2):\n",
    "    return math.sqrt((p1[0] - p2[0])**2 + (p1[1] - p2[1])**2)\n",
    "\n",
    "\n",
    "def find_closest(points, point):\n",
    "    min_distance = math.inf\n",
    "    min_idx = None\n",
    "    \n",
    "    for i, other in enumerate(points):\n",
    "        d = distance(point, other) \n",
    "        \n",
    "        if d < min_distance:\n",
    "            min_distance = d\n",
    "            min_idx = i\n",
    "    \n",
    "    return min_idx"
   ]
  },
  {
   "cell_type": "code",
   "execution_count": null,
   "metadata": {},
   "outputs": [],
   "source": [
    "idx = find_closest(points, point)\n",
    "print(idx, points[idx])"
   ]
  },
  {
   "cell_type": "code",
   "execution_count": null,
   "metadata": {},
   "outputs": [],
   "source": [
    "%%timeit -o \n",
    "find_closest(points, point)"
   ]
  },
  {
   "cell_type": "code",
   "execution_count": null,
   "metadata": {},
   "outputs": [],
   "source": [
    "timeit_python = _"
   ]
  },
  {
   "cell_type": "markdown",
   "metadata": {},
   "source": [
    "#### Using numpy arrays and numpy methods"
   ]
  },
  {
   "cell_type": "code",
   "execution_count": null,
   "metadata": {},
   "outputs": [],
   "source": [
    "points = np.array(points)\n",
    "point = np.array(point)"
   ]
  },
  {
   "cell_type": "code",
   "execution_count": null,
   "metadata": {},
   "outputs": [],
   "source": [
    "def find_closest_numpy(points, point):\n",
    "    distances = np.linalg.norm(points - point, axis=1)\n",
    "    idx = np.argmin(distances)\n",
    "    return idx\n",
    "\n",
    "\n",
    "idx = find_closest_numpy(points, point)\n",
    "print(idx, points[idx])"
   ]
  },
  {
   "cell_type": "code",
   "execution_count": null,
   "metadata": {},
   "outputs": [],
   "source": [
    "%%timeit -o\n",
    "find_closest_numpy(points, point)"
   ]
  },
  {
   "cell_type": "code",
   "execution_count": null,
   "metadata": {},
   "outputs": [],
   "source": [
    "timeit_numpy = _ "
   ]
  },
  {
   "cell_type": "markdown",
   "metadata": {},
   "source": [
    "And now using numba"
   ]
  },
  {
   "cell_type": "code",
   "execution_count": null,
   "metadata": {},
   "outputs": [],
   "source": [
    "from numba import njit\n",
    "\n",
    "# a decorator is a function that changes a function\n",
    "# we apply the njit decorator to our python functions:\n",
    "distance = njit(distance)\n",
    "find_closest = njit(find_closest)\n",
    "\n",
    "# normally used like this:\n",
    "@njit\n",
    "def foo():\n",
    "    return 1"
   ]
  },
  {
   "cell_type": "code",
   "execution_count": null,
   "metadata": {},
   "outputs": [],
   "source": [
    "idx = find_closest(points, point)\n",
    "\n",
    "print(idx, points[idx])"
   ]
  },
  {
   "cell_type": "code",
   "execution_count": null,
   "metadata": {},
   "outputs": [],
   "source": [
    "%%timeit -o\n",
    "find_closest(points, point)"
   ]
  },
  {
   "cell_type": "code",
   "execution_count": null,
   "metadata": {},
   "outputs": [],
   "source": [
    "timeit_numba = _"
   ]
  },
  {
   "cell_type": "code",
   "execution_count": null,
   "metadata": {},
   "outputs": [],
   "source": [
    "factor = timeit_python.average / timeit_numpy.average\n",
    "print(f'Numpy is {factor:.1f} times faster than pure python')"
   ]
  },
  {
   "cell_type": "code",
   "execution_count": null,
   "metadata": {},
   "outputs": [],
   "source": [
    "factor = timeit_numpy.average / timeit_numba.average\n",
    "print(f'Numba is {factor:.1f} times faster than numpy')"
   ]
  },
  {
   "cell_type": "code",
   "execution_count": null,
   "metadata": {},
   "outputs": [],
   "source": [
    "factor = timeit_python.average / timeit_numba.average\n",
    "print(f'Numba is {factor:.1f} times faster than pure python')"
   ]
  },
  {
   "cell_type": "markdown",
   "metadata": {},
   "source": [
    "### What kind of sorcery is this?\n",
    "\n",
    "* Python is a very *dynamic*, interpreted language. That makes it very powerful, but also has a large overhead, especially for simple numerical calculations\n",
    "\n",
    "* Numpy is a library providing generic methods in compiled, optimized Cython, C, Fortran, ... which has much less overhead. But since every operation works on the whole array, intermediate arrays are created for the intermediate results\n",
    "\n",
    "* Numba takes the python code and \"just-in-time (Jit)\" compiles it to machine code, completely eliminating the need for intermediate arrays and thus memory allocations in this case.\n",
    "\n",
    "\n",
    "The speed-ups can be immense and numba compiled python code can be as-fast or even faster than hand-optimized C / C++ code and has trivial interoperability with python and numpy.\n",
    "\n",
    "\n",
    "For SMD, numpy will almost always be \"good enough\", numba won't be needed to make exercises run in less than a couple of seconds to minutes.\n",
    "\n",
    "But: numba is very well suited in general and especially for algorithms which cannot be vectorized, e.g. where the results depend on the previous iterations."
   ]
  },
  {
   "cell_type": "markdown",
   "metadata": {},
   "source": [
    "### Pseudo Random Numbers\n",
    "\n",
    "Docs: https://numpy.org/doc/stable/reference/random/index.html"
   ]
  },
  {
   "cell_type": "code",
   "execution_count": null,
   "metadata": {},
   "outputs": [],
   "source": [
    "from numpy.random import default_rng\n",
    "\n",
    "# create a new random number generator with a fixed seed\n",
    "rng = default_rng(42)"
   ]
  },
  {
   "cell_type": "markdown",
   "metadata": {},
   "source": [
    "#### 1-D Distributions"
   ]
  },
  {
   "cell_type": "code",
   "execution_count": null,
   "metadata": {},
   "outputs": [],
   "source": [
    "uniform = rng.uniform(-5, 5, 1000)\n",
    "normal = rng.normal(0, 1, 1000)\n",
    "poisson = rng.poisson(3, 1000)"
   ]
  },
  {
   "cell_type": "markdown",
   "metadata": {},
   "source": [
    "#### N-D Normal Distribution"
   ]
  },
  {
   "cell_type": "code",
   "execution_count": null,
   "metadata": {},
   "outputs": [],
   "source": [
    "mean = [2, 1]\n",
    "cov = [[2, 1],\n",
    "       [1, 4]]\n",
    "\n",
    "normal_2d = rng.multivariate_normal(mean, cov, 1000)"
   ]
  },
  {
   "cell_type": "markdown",
   "metadata": {},
   "source": [
    "Important for reproducibility: setting the seed.\n",
    "\n",
    "Also important for parallel calculations or for resuming simulations."
   ]
  },
  {
   "cell_type": "code",
   "execution_count": null,
   "metadata": {},
   "outputs": [],
   "source": [
    "rng.normal()"
   ]
  },
  {
   "cell_type": "code",
   "execution_count": null,
   "metadata": {},
   "outputs": [],
   "source": [
    "rng = default_rng(0)\n",
    "rng.normal()"
   ]
  },
  {
   "cell_type": "markdown",
   "metadata": {},
   "source": [
    "## matplotlib\n",
    "\n",
    "Short intro into the two most important types of plots for SMD:\n",
    "\n",
    "* Histograms\n",
    "* Scatter plots\n",
    "\n",
    "### Histograms\n",
    "\n",
    "Histograms count the number of samples in specific intervals"
   ]
  },
  {
   "cell_type": "code",
   "execution_count": null,
   "metadata": {},
   "outputs": [],
   "source": [
    "import matplotlib.pyplot as plt\n",
    "\n",
    "# for interactive plots in the notebook (using the ipympl package).\n",
    "# in ipython just use %matplotlib\n",
    "%matplotlib widget"
   ]
  },
  {
   "cell_type": "code",
   "execution_count": null,
   "metadata": {},
   "outputs": [],
   "source": [
    "# relatively new feature of matplotlib, use this instead of `fig.tight_layout()`\n",
    "fig, ax = plt.subplots(constrained_layout=True)\n",
    "\n",
    "ax.hist(normal, bins=20, range=[-5, 5])\n",
    "\n",
    "None # hides matplotlib objects in output, just to not mess up the notebook"
   ]
  },
  {
   "cell_type": "markdown",
   "metadata": {},
   "source": [
    "When comparing different samples, it's important to use the same \"binning\""
   ]
  },
  {
   "cell_type": "code",
   "execution_count": null,
   "metadata": {},
   "outputs": [],
   "source": [
    "bins = 20\n",
    "limits = [-5, 5]\n",
    "\n",
    "combined = np.concatenate([normal, uniform])\n",
    "\n",
    "fig, ax = plt.subplots(constrained_layout=True)\n",
    "\n",
    "# define common options in a single location\n",
    "hist_options = dict(\n",
    "    bins=bins,\n",
    "    range=limits,\n",
    "    histtype='step',\n",
    "    lw=2,\n",
    ")\n",
    "\n",
    "ax.hist(normal, label='Normal', **hist_options)\n",
    "ax.hist(uniform, label='Uniform', **hist_options)\n",
    "ax.hist(combined, label='Combined', linestyle=':',color='k', **hist_options)\n",
    "\n",
    "ax.legend()\n",
    "\n",
    "None  # just to not mess up the notebook"
   ]
  },
  {
   "cell_type": "markdown",
   "metadata": {},
   "source": [
    "<span style=\"color: crimson; font-weight: bold; font-size: 1.3rem\">\n",
    "    For discrete values (integers), always use integral-width bins centered around the values\n",
    "</span>"
   ]
  },
  {
   "cell_type": "code",
   "execution_count": null,
   "metadata": {},
   "outputs": [],
   "source": [
    "fig, ax = plt.subplots(constrained_layout=True)\n",
    "ax.hist(poisson, bins=15)\n",
    "None"
   ]
  },
  {
   "cell_type": "code",
   "execution_count": null,
   "metadata": {},
   "outputs": [],
   "source": [
    "fig, ax = plt.subplots(constrained_layout=True)\n",
    "\n",
    "# bins can be either number of bins or an array with the bin edges\n",
    "bins = np.arange(15) - 0.5 \n",
    "\n",
    "ax.hist(\n",
    "    poisson,\n",
    "    bins=bins,\n",
    "    edgecolor='lightgray',\n",
    "    lw=2\n",
    ")\n",
    "\n",
    "\n",
    "bins"
   ]
  },
  {
   "cell_type": "code",
   "execution_count": null,
   "metadata": {},
   "outputs": [],
   "source": [
    "# convert bin edges to bin centers and bin widths\n",
    "bins = np.arange(8) - 0.5\n",
    "\n",
    "bin_centers = 0.5 * (bins[:-1] + bins[1:])\n",
    "bin_widths = np.diff(bins)\n",
    "\n",
    "print(bins)\n",
    "print(bin_centers)\n",
    "print(bin_widths)"
   ]
  },
  {
   "cell_type": "markdown",
   "metadata": {},
   "source": [
    "### Scatter Plots"
   ]
  },
  {
   "cell_type": "code",
   "execution_count": null,
   "metadata": {},
   "outputs": [],
   "source": [
    "fig, ax = plt.subplots(constrained_layout=True)\n",
    "\n",
    "ax.scatter(normal_2d[:, 0], normal_2d[:, 1])\n",
    "\n",
    "None"
   ]
  },
  {
   "cell_type": "code",
   "execution_count": null,
   "metadata": {},
   "outputs": [],
   "source": [
    "normal_2d = rng.multivariate_normal(mean, cov, 10000)\n",
    "\n",
    "fig, ax = plt.subplots(constrained_layout=True)\n",
    "\n",
    "ax.scatter(\n",
    "    normal_2d[:, 0],\n",
    "    normal_2d[:, 1],\n",
    "    s=5,              # smaller dots, \n",
    "    alpha=0.2,        # some transparency for this many points\n",
    "    linewidth=0,      # no border around points\n",
    ")\n",
    "\n",
    "None"
   ]
  },
  {
   "cell_type": "markdown",
   "metadata": {},
   "source": [
    "A more advanced example:\n",
    "\n",
    "* Points can be colored using a third array\n",
    "* Using ListedColorMap, you can get a discrete colormap for each class"
   ]
  },
  {
   "cell_type": "code",
   "execution_count": null,
   "metadata": {},
   "outputs": [],
   "source": [
    "from sklearn.datasets import load_iris\n",
    "\n",
    "iris = load_iris()"
   ]
  },
  {
   "cell_type": "code",
   "execution_count": null,
   "metadata": {},
   "outputs": [],
   "source": [
    "from matplotlib.colors import ListedColormap\n",
    "\n",
    "n_classes = len(iris.target_names)\n",
    "\n",
    "# new ColorMap with `n_classes` discrete colors \n",
    "# using the standard color rotation C0, C1, ...\n",
    "cmap = ListedColormap([f'C{i}' for i in range(n_classes)], name='iris')\n",
    "cmap"
   ]
  },
  {
   "cell_type": "code",
   "execution_count": null,
   "metadata": {},
   "outputs": [],
   "source": [
    "# automatically adjust spacing\n",
    "fig, ax = plt.subplots(constrained_layout=True)\n",
    "\n",
    "# scatter plot with colors per class\n",
    "scat = ax.scatter(\n",
    "    iris.data[:, 0],       # x-values, first column\n",
    "    iris.data[:, 1],       # y-values, second column \n",
    "    c=iris.target,         # data to determine color\n",
    "    cmap=cmap,             # colormap, converts data in c to an actual color\n",
    "    vmin=-0.5,             # minimum value for the color axis\n",
    "    vmax=n_classes - 0.5,  # maximum value for the color axis\n",
    ")\n",
    "\n",
    "\n",
    "# follow SI conventions (divide by unit)\n",
    "ax.set_xlabel(iris.feature_names[0].replace('(cm)', '/ cm'))\n",
    "ax.set_ylabel(iris.feature_names[1].replace('(cm)', '/ cm'))\n",
    "\n",
    "# colorbar with ticklabels\n",
    "bar = fig.colorbar(scat, ticks=[0, 1, 2], ax=ax)\n",
    "bar.set_ticklabels(iris.target_names)"
   ]
  },
  {
   "cell_type": "markdown",
   "metadata": {},
   "source": [
    "### 2D-Histograms"
   ]
  },
  {
   "cell_type": "code",
   "execution_count": null,
   "metadata": {},
   "outputs": [],
   "source": [
    "fig, ax = plt.subplots(constrained_layout=True)\n",
    "\n",
    "hist, xedges, yedges, plot = ax.hist2d(\n",
    "    normal_2d[:, 0],\n",
    "    normal_2d[:, 1],\n",
    "    bins=[21, 21],\n",
    "    range=[[-3, 7], [-7, 9]],\n",
    "    cmap='inferno',            # has more contrast than the default viridis\n",
    ")\n",
    "fig.colorbar(plot, ax=ax)\n",
    "None"
   ]
  },
  {
   "cell_type": "markdown",
   "metadata": {},
   "source": [
    "Sometimes helpful: Logarithmic scale for the color map"
   ]
  },
  {
   "cell_type": "code",
   "execution_count": null,
   "metadata": {},
   "outputs": [],
   "source": [
    "# two different distributions, one significantly smaller\n",
    "normal_2d = rng.multivariate_normal(mean, cov, 100000)\n",
    "normal_2d_2 = rng.multivariate_normal([-1.5, 4.5], [[0.5, 0], [0, 0.5]], 500)\n",
    "\n",
    "normal_2d_both = np.concatenate([normal_2d, normal_2d_2], axis=0)\n",
    "normal_2d_both.shape"
   ]
  },
  {
   "cell_type": "code",
   "execution_count": null,
   "metadata": {},
   "outputs": [],
   "source": [
    "fig, ax = plt.subplots(constrained_layout=True)\n",
    "\n",
    "*_, plot = ax.hist2d(\n",
    "    normal_2d_both[:, 0],\n",
    "    normal_2d_both[:, 1],\n",
    "    bins=[50, 50],\n",
    "    range=[[-3, 7], [-7, 9]],\n",
    "    cmap='inferno'\n",
    ")\n",
    "fig.colorbar(plot, ax=ax)\n",
    "\n",
    "None"
   ]
  },
  {
   "cell_type": "code",
   "execution_count": null,
   "metadata": {},
   "outputs": [],
   "source": [
    "from matplotlib.colors import LogNorm\n",
    "\n",
    "\n",
    "fig, ax = plt.subplots(constrained_layout=True)\n",
    "\n",
    "*_, plot = ax.hist2d(\n",
    "    normal_2d_both[:, 0],\n",
    "    normal_2d_both[:, 1],\n",
    "    bins=[50, 50],\n",
    "    range=[[-3, 7], [-7, 9]],\n",
    "    norm=LogNorm(),\n",
    "    cmap='inferno'\n",
    ")\n",
    "fig.colorbar(plot, ax=ax)\n",
    "\n",
    "None"
   ]
  },
  {
   "cell_type": "markdown",
   "metadata": {},
   "source": [
    "Also often important: fixed aspect ratio of the x and y axis:"
   ]
  },
  {
   "cell_type": "code",
   "execution_count": null,
   "metadata": {},
   "outputs": [],
   "source": [
    "fig, ax = plt.subplots(constrained_layout=True)\n",
    "\n",
    "hist, xbins, ybins, plot = ax.hist2d(\n",
    "    normal_2d_both[:, 0],\n",
    "    normal_2d_both[:, 1],\n",
    "    bins=[50, 50],\n",
    "    range=[[-3, 7], [-7, 9]],\n",
    "    norm=LogNorm(),\n",
    "    cmap='inferno',\n",
    ")\n",
    "\n",
    "fig.colorbar(plot, ax=ax)\n",
    "\n",
    "# force x and y to have same aspect ratio, also takes numbers\n",
    "ax.set_aspect('equal')\n",
    "\n",
    "\n",
    "None"
   ]
  },
  {
   "cell_type": "markdown",
   "metadata": {},
   "source": [
    "## scipy\n",
    "\n",
    "For SMD-A, `scipy.stats` will be most important\n",
    "\n",
    "### scipy.stats\n",
    "\n",
    "Many statistical distributions with many properties\n",
    "\n",
    "Docs: https://docs.scipy.org/doc/scipy/reference/stats.html"
   ]
  },
  {
   "cell_type": "code",
   "execution_count": null,
   "metadata": {},
   "outputs": [],
   "source": [
    "from scipy.stats import norm\n",
    "\n",
    "mean = 5\n",
    "std = 2\n",
    "\n",
    "normal_distribution = norm(mean, std)"
   ]
  },
  {
   "cell_type": "code",
   "execution_count": null,
   "metadata": {},
   "outputs": [],
   "source": [
    "# draw random samples using our generator\n",
    "samples = normal_distribution.rvs(size=1000, random_state=rng)\n",
    "\n",
    "x = np.linspace(mean - 5 * std, mean + 5 * std, 250)\n",
    "\n",
    "fig, ax = plt.subplots(constrained_layout=True)\n",
    "\n",
    "# plot histogram\n",
    "ax.hist(\n",
    "    samples,\n",
    "    bins=100,\n",
    "    range=[x.min(), x.max()],\n",
    "    density=True,  # normalize histgram to an area of 1\n",
    "    label='Normalized Histogram',\n",
    ")\n",
    "\n",
    "# plot pdf and cdf\n",
    "ax.plot(x, normal_distribution.pdf(x), label='Probability Density Function', lw=2)\n",
    "ax.plot(x, normal_distribution.cdf(x), label='Cumulative Distribution Function', lw=2)\n",
    "\n",
    "\n",
    "ax.legend()\n",
    "\n",
    "None"
   ]
  },
  {
   "cell_type": "code",
   "execution_count": null,
   "metadata": {},
   "outputs": [],
   "source": [
    "x = rng.normal(5, 2, 100)\n",
    "\n",
    "# maximum likelihood fit \n",
    "mean_fit, std_fit = norm.fit(x)\n",
    "\n",
    "mean_fit, mean, std_fit, std"
   ]
  },
  {
   "cell_type": "markdown",
   "metadata": {},
   "source": [
    "## Pandas\n",
    "\n",
    "Library for tabular data"
   ]
  },
  {
   "cell_type": "code",
   "execution_count": 22,
   "metadata": {},
   "outputs": [],
   "source": [
    "import pandas as pd"
   ]
  },
  {
   "cell_type": "markdown",
   "metadata": {},
   "source": [
    "### Create a pandas.DataFrame from numpy arrays"
   ]
  },
  {
   "cell_type": "code",
   "execution_count": null,
   "metadata": {},
   "outputs": [],
   "source": [
    "signal = pd.DataFrame({\n",
    "    'x': rng.normal(2, 0.5, 1000),\n",
    "    'y': rng.uniform(0.5, 1, 1000),\n",
    "    'N': rng.poisson(50, 1000),\n",
    "    't': rng.exponential(5, 1000),\n",
    "})"
   ]
  },
  {
   "cell_type": "markdown",
   "metadata": {},
   "source": [
    "### First look at the data"
   ]
  },
  {
   "cell_type": "code",
   "execution_count": null,
   "metadata": {},
   "outputs": [],
   "source": [
    "signal.head()"
   ]
  },
  {
   "cell_type": "markdown",
   "metadata": {},
   "source": [
    "### Input/Output"
   ]
  },
  {
   "cell_type": "code",
   "execution_count": null,
   "metadata": {},
   "outputs": [],
   "source": [
    "signal.to_csv('data.csv')"
   ]
  },
  {
   "cell_type": "code",
   "execution_count": null,
   "metadata": {},
   "outputs": [],
   "source": [
    "signal = pd.read_csv('data.csv', index_col=0)"
   ]
  },
  {
   "cell_type": "code",
   "execution_count": null,
   "metadata": {},
   "outputs": [],
   "source": [
    "# HDF5 is a fast, binary data format better suited for large datasets\n",
    "signal.to_hdf('data.hdf5', key='signal')"
   ]
  },
  {
   "cell_type": "code",
   "execution_count": null,
   "metadata": {},
   "outputs": [],
   "source": [
    "background = pd.DataFrame({\n",
    "    'x': rng.uniform(-4, 4, 10000),\n",
    "    'y': rng.uniform(-4, 4, 10000),\n",
    "    'N': rng.poisson(30, 10000),\n",
    "    't': rng.exponential(10, 10000),\n",
    "})"
   ]
  },
  {
   "cell_type": "code",
   "execution_count": null,
   "metadata": {},
   "outputs": [],
   "source": [
    "# you can store more than one dataset in the same file\n",
    "background.to_hdf('data.hdf5', key='background')"
   ]
  },
  {
   "cell_type": "code",
   "execution_count": null,
   "metadata": {},
   "outputs": [],
   "source": [
    "background.head()"
   ]
  },
  {
   "cell_type": "code",
   "execution_count": null,
   "metadata": {},
   "outputs": [],
   "source": [
    "df = pd.read_hdf('data.hdf5', key='signal')"
   ]
  },
  {
   "cell_type": "code",
   "execution_count": null,
   "metadata": {},
   "outputs": [],
   "source": [
    "len(df)"
   ]
  },
  {
   "cell_type": "markdown",
   "metadata": {},
   "source": [
    "Look at the first / last values"
   ]
  },
  {
   "cell_type": "code",
   "execution_count": null,
   "metadata": {},
   "outputs": [],
   "source": [
    "df.head()"
   ]
  },
  {
   "cell_type": "code",
   "execution_count": null,
   "metadata": {},
   "outputs": [],
   "source": [
    "df.tail()"
   ]
  },
  {
   "cell_type": "code",
   "execution_count": null,
   "metadata": {},
   "outputs": [],
   "source": [
    "df.describe()"
   ]
  },
  {
   "cell_type": "markdown",
   "metadata": {},
   "source": [
    "### The titanic dataset"
   ]
  },
  {
   "cell_type": "code",
   "execution_count": 23,
   "metadata": {},
   "outputs": [],
   "source": [
    "df = pd.read_csv('titanic.csv')"
   ]
  },
  {
   "cell_type": "code",
   "execution_count": 24,
   "metadata": {},
   "outputs": [
    {
     "data": {
      "text/html": [
       "<div>\n",
       "<style scoped>\n",
       "    .dataframe tbody tr th:only-of-type {\n",
       "        vertical-align: middle;\n",
       "    }\n",
       "\n",
       "    .dataframe tbody tr th {\n",
       "        vertical-align: top;\n",
       "    }\n",
       "\n",
       "    .dataframe thead th {\n",
       "        text-align: right;\n",
       "    }\n",
       "</style>\n",
       "<table border=\"1\" class=\"dataframe\">\n",
       "  <thead>\n",
       "    <tr style=\"text-align: right;\">\n",
       "      <th></th>\n",
       "      <th>pclass</th>\n",
       "      <th>survived</th>\n",
       "      <th>name</th>\n",
       "      <th>sex</th>\n",
       "      <th>age</th>\n",
       "      <th>sibsp</th>\n",
       "      <th>parch</th>\n",
       "      <th>ticket</th>\n",
       "      <th>fare</th>\n",
       "      <th>cabin</th>\n",
       "      <th>embarked</th>\n",
       "      <th>boat</th>\n",
       "      <th>body</th>\n",
       "      <th>home.dest</th>\n",
       "    </tr>\n",
       "  </thead>\n",
       "  <tbody>\n",
       "    <tr>\n",
       "      <th>0</th>\n",
       "      <td>1</td>\n",
       "      <td>1</td>\n",
       "      <td>Allen, Miss. Elisabeth Walton</td>\n",
       "      <td>female</td>\n",
       "      <td>29.0000</td>\n",
       "      <td>0</td>\n",
       "      <td>0</td>\n",
       "      <td>24160</td>\n",
       "      <td>211.3375</td>\n",
       "      <td>B5</td>\n",
       "      <td>S</td>\n",
       "      <td>2</td>\n",
       "      <td>NaN</td>\n",
       "      <td>St Louis, MO</td>\n",
       "    </tr>\n",
       "    <tr>\n",
       "      <th>1</th>\n",
       "      <td>1</td>\n",
       "      <td>1</td>\n",
       "      <td>Allison, Master. Hudson Trevor</td>\n",
       "      <td>male</td>\n",
       "      <td>0.9167</td>\n",
       "      <td>1</td>\n",
       "      <td>2</td>\n",
       "      <td>113781</td>\n",
       "      <td>151.5500</td>\n",
       "      <td>C22 C26</td>\n",
       "      <td>S</td>\n",
       "      <td>11</td>\n",
       "      <td>NaN</td>\n",
       "      <td>Montreal, PQ / Chesterville, ON</td>\n",
       "    </tr>\n",
       "    <tr>\n",
       "      <th>2</th>\n",
       "      <td>1</td>\n",
       "      <td>0</td>\n",
       "      <td>Allison, Miss. Helen Loraine</td>\n",
       "      <td>female</td>\n",
       "      <td>2.0000</td>\n",
       "      <td>1</td>\n",
       "      <td>2</td>\n",
       "      <td>113781</td>\n",
       "      <td>151.5500</td>\n",
       "      <td>C22 C26</td>\n",
       "      <td>S</td>\n",
       "      <td>NaN</td>\n",
       "      <td>NaN</td>\n",
       "      <td>Montreal, PQ / Chesterville, ON</td>\n",
       "    </tr>\n",
       "    <tr>\n",
       "      <th>3</th>\n",
       "      <td>1</td>\n",
       "      <td>0</td>\n",
       "      <td>Allison, Mr. Hudson Joshua Creighton</td>\n",
       "      <td>male</td>\n",
       "      <td>30.0000</td>\n",
       "      <td>1</td>\n",
       "      <td>2</td>\n",
       "      <td>113781</td>\n",
       "      <td>151.5500</td>\n",
       "      <td>C22 C26</td>\n",
       "      <td>S</td>\n",
       "      <td>NaN</td>\n",
       "      <td>135.0</td>\n",
       "      <td>Montreal, PQ / Chesterville, ON</td>\n",
       "    </tr>\n",
       "    <tr>\n",
       "      <th>4</th>\n",
       "      <td>1</td>\n",
       "      <td>0</td>\n",
       "      <td>Allison, Mrs. Hudson J C (Bessie Waldo Daniels)</td>\n",
       "      <td>female</td>\n",
       "      <td>25.0000</td>\n",
       "      <td>1</td>\n",
       "      <td>2</td>\n",
       "      <td>113781</td>\n",
       "      <td>151.5500</td>\n",
       "      <td>C22 C26</td>\n",
       "      <td>S</td>\n",
       "      <td>NaN</td>\n",
       "      <td>NaN</td>\n",
       "      <td>Montreal, PQ / Chesterville, ON</td>\n",
       "    </tr>\n",
       "  </tbody>\n",
       "</table>\n",
       "</div>"
      ],
      "text/plain": [
       "   pclass  survived                                             name     sex  \\\n",
       "0       1         1                    Allen, Miss. Elisabeth Walton  female   \n",
       "1       1         1                   Allison, Master. Hudson Trevor    male   \n",
       "2       1         0                     Allison, Miss. Helen Loraine  female   \n",
       "3       1         0             Allison, Mr. Hudson Joshua Creighton    male   \n",
       "4       1         0  Allison, Mrs. Hudson J C (Bessie Waldo Daniels)  female   \n",
       "\n",
       "       age  sibsp  parch  ticket      fare    cabin embarked boat   body  \\\n",
       "0  29.0000      0      0   24160  211.3375       B5        S    2    NaN   \n",
       "1   0.9167      1      2  113781  151.5500  C22 C26        S   11    NaN   \n",
       "2   2.0000      1      2  113781  151.5500  C22 C26        S  NaN    NaN   \n",
       "3  30.0000      1      2  113781  151.5500  C22 C26        S  NaN  135.0   \n",
       "4  25.0000      1      2  113781  151.5500  C22 C26        S  NaN    NaN   \n",
       "\n",
       "                         home.dest  \n",
       "0                     St Louis, MO  \n",
       "1  Montreal, PQ / Chesterville, ON  \n",
       "2  Montreal, PQ / Chesterville, ON  \n",
       "3  Montreal, PQ / Chesterville, ON  \n",
       "4  Montreal, PQ / Chesterville, ON  "
      ]
     },
     "execution_count": 24,
     "metadata": {},
     "output_type": "execute_result"
    }
   ],
   "source": [
    "df.head()"
   ]
  },
  {
   "cell_type": "markdown",
   "metadata": {},
   "source": [
    "How many valid values in each column?"
   ]
  },
  {
   "cell_type": "code",
   "execution_count": 25,
   "metadata": {},
   "outputs": [
    {
     "data": {
      "text/plain": [
       "pclass       1309\n",
       "survived     1309\n",
       "name         1309\n",
       "sex          1309\n",
       "sibsp        1309\n",
       "parch        1309\n",
       "ticket       1309\n",
       "fare         1308\n",
       "embarked     1307\n",
       "age          1046\n",
       "home.dest     745\n",
       "boat          486\n",
       "cabin         295\n",
       "body          121\n",
       "dtype: int64"
      ]
     },
     "execution_count": 25,
     "metadata": {},
     "output_type": "execute_result"
    }
   ],
   "source": [
    "df.count().sort_values(ascending=False)"
   ]
  },
  {
   "cell_type": "markdown",
   "metadata": {},
   "source": [
    "Drop columns with too many missing values:"
   ]
  },
  {
   "cell_type": "code",
   "execution_count": 26,
   "metadata": {},
   "outputs": [
    {
     "data": {
      "text/html": [
       "<div>\n",
       "<style scoped>\n",
       "    .dataframe tbody tr th:only-of-type {\n",
       "        vertical-align: middle;\n",
       "    }\n",
       "\n",
       "    .dataframe tbody tr th {\n",
       "        vertical-align: top;\n",
       "    }\n",
       "\n",
       "    .dataframe thead th {\n",
       "        text-align: right;\n",
       "    }\n",
       "</style>\n",
       "<table border=\"1\" class=\"dataframe\">\n",
       "  <thead>\n",
       "    <tr style=\"text-align: right;\">\n",
       "      <th></th>\n",
       "      <th>pclass</th>\n",
       "      <th>survived</th>\n",
       "      <th>name</th>\n",
       "      <th>sex</th>\n",
       "      <th>age</th>\n",
       "      <th>sibsp</th>\n",
       "      <th>parch</th>\n",
       "      <th>ticket</th>\n",
       "      <th>fare</th>\n",
       "      <th>embarked</th>\n",
       "    </tr>\n",
       "  </thead>\n",
       "  <tbody>\n",
       "    <tr>\n",
       "      <th>0</th>\n",
       "      <td>1</td>\n",
       "      <td>1</td>\n",
       "      <td>Allen, Miss. Elisabeth Walton</td>\n",
       "      <td>female</td>\n",
       "      <td>29.0000</td>\n",
       "      <td>0</td>\n",
       "      <td>0</td>\n",
       "      <td>24160</td>\n",
       "      <td>211.3375</td>\n",
       "      <td>S</td>\n",
       "    </tr>\n",
       "    <tr>\n",
       "      <th>1</th>\n",
       "      <td>1</td>\n",
       "      <td>1</td>\n",
       "      <td>Allison, Master. Hudson Trevor</td>\n",
       "      <td>male</td>\n",
       "      <td>0.9167</td>\n",
       "      <td>1</td>\n",
       "      <td>2</td>\n",
       "      <td>113781</td>\n",
       "      <td>151.5500</td>\n",
       "      <td>S</td>\n",
       "    </tr>\n",
       "    <tr>\n",
       "      <th>2</th>\n",
       "      <td>1</td>\n",
       "      <td>0</td>\n",
       "      <td>Allison, Miss. Helen Loraine</td>\n",
       "      <td>female</td>\n",
       "      <td>2.0000</td>\n",
       "      <td>1</td>\n",
       "      <td>2</td>\n",
       "      <td>113781</td>\n",
       "      <td>151.5500</td>\n",
       "      <td>S</td>\n",
       "    </tr>\n",
       "    <tr>\n",
       "      <th>3</th>\n",
       "      <td>1</td>\n",
       "      <td>0</td>\n",
       "      <td>Allison, Mr. Hudson Joshua Creighton</td>\n",
       "      <td>male</td>\n",
       "      <td>30.0000</td>\n",
       "      <td>1</td>\n",
       "      <td>2</td>\n",
       "      <td>113781</td>\n",
       "      <td>151.5500</td>\n",
       "      <td>S</td>\n",
       "    </tr>\n",
       "    <tr>\n",
       "      <th>4</th>\n",
       "      <td>1</td>\n",
       "      <td>0</td>\n",
       "      <td>Allison, Mrs. Hudson J C (Bessie Waldo Daniels)</td>\n",
       "      <td>female</td>\n",
       "      <td>25.0000</td>\n",
       "      <td>1</td>\n",
       "      <td>2</td>\n",
       "      <td>113781</td>\n",
       "      <td>151.5500</td>\n",
       "      <td>S</td>\n",
       "    </tr>\n",
       "  </tbody>\n",
       "</table>\n",
       "</div>"
      ],
      "text/plain": [
       "   pclass  survived                                             name     sex  \\\n",
       "0       1         1                    Allen, Miss. Elisabeth Walton  female   \n",
       "1       1         1                   Allison, Master. Hudson Trevor    male   \n",
       "2       1         0                     Allison, Miss. Helen Loraine  female   \n",
       "3       1         0             Allison, Mr. Hudson Joshua Creighton    male   \n",
       "4       1         0  Allison, Mrs. Hudson J C (Bessie Waldo Daniels)  female   \n",
       "\n",
       "       age  sibsp  parch  ticket      fare embarked  \n",
       "0  29.0000      0      0   24160  211.3375        S  \n",
       "1   0.9167      1      2  113781  151.5500        S  \n",
       "2   2.0000      1      2  113781  151.5500        S  \n",
       "3  30.0000      1      2  113781  151.5500        S  \n",
       "4  25.0000      1      2  113781  151.5500        S  "
      ]
     },
     "execution_count": 26,
     "metadata": {},
     "output_type": "execute_result"
    }
   ],
   "source": [
    "# inplace=True: directly change df\n",
    "df.drop(['cabin', 'boat', 'body', 'home.dest'], axis=\"columns\", inplace=True) \n",
    "\n",
    "df.head()"
   ]
  },
  {
   "cell_type": "markdown",
   "metadata": {},
   "source": [
    "How many men/women on the titanic?"
   ]
  },
  {
   "cell_type": "code",
   "execution_count": 27,
   "metadata": {},
   "outputs": [
    {
     "data": {
      "text/plain": [
       "sex\n",
       "male      843\n",
       "female    466\n",
       "Name: count, dtype: int64"
      ]
     },
     "execution_count": 27,
     "metadata": {},
     "output_type": "execute_result"
    }
   ],
   "source": [
    "df['sex'].value_counts()"
   ]
  },
  {
   "cell_type": "markdown",
   "metadata": {},
   "source": [
    "Very powerful operation: GroupBy → Aggregate\n",
    "\n",
    "The dataset is split into multiple groups, aggregated values calculated per group.\n",
    "\n",
    "\n",
    "Example: mean survival rate by sex:"
   ]
  },
  {
   "cell_type": "code",
   "execution_count": 28,
   "metadata": {},
   "outputs": [
    {
     "data": {
      "text/plain": [
       "sex\n",
       "female    0.727468\n",
       "male      0.190985\n",
       "Name: survived, dtype: float64"
      ]
     },
     "execution_count": 28,
     "metadata": {},
     "output_type": "execute_result"
    }
   ],
   "source": [
    "df.groupby('sex')['survived'].agg('mean')"
   ]
  },
  {
   "cell_type": "markdown",
   "metadata": {},
   "source": [
    "`DataFrame` also supports mask indexing:"
   ]
  },
  {
   "cell_type": "code",
   "execution_count": 29,
   "metadata": {},
   "outputs": [
    {
     "data": {
      "text/html": [
       "<div>\n",
       "<style scoped>\n",
       "    .dataframe tbody tr th:only-of-type {\n",
       "        vertical-align: middle;\n",
       "    }\n",
       "\n",
       "    .dataframe tbody tr th {\n",
       "        vertical-align: top;\n",
       "    }\n",
       "\n",
       "    .dataframe thead th {\n",
       "        text-align: right;\n",
       "    }\n",
       "</style>\n",
       "<table border=\"1\" class=\"dataframe\">\n",
       "  <thead>\n",
       "    <tr style=\"text-align: right;\">\n",
       "      <th></th>\n",
       "      <th>pclass</th>\n",
       "      <th>survived</th>\n",
       "      <th>name</th>\n",
       "      <th>sex</th>\n",
       "      <th>age</th>\n",
       "      <th>sibsp</th>\n",
       "      <th>parch</th>\n",
       "      <th>ticket</th>\n",
       "      <th>fare</th>\n",
       "      <th>embarked</th>\n",
       "      <th>child</th>\n",
       "    </tr>\n",
       "  </thead>\n",
       "  <tbody>\n",
       "    <tr>\n",
       "      <th>1</th>\n",
       "      <td>1</td>\n",
       "      <td>1</td>\n",
       "      <td>Allison, Master. Hudson Trevor</td>\n",
       "      <td>male</td>\n",
       "      <td>0.9167</td>\n",
       "      <td>1</td>\n",
       "      <td>2</td>\n",
       "      <td>113781</td>\n",
       "      <td>151.5500</td>\n",
       "      <td>S</td>\n",
       "      <td>True</td>\n",
       "    </tr>\n",
       "    <tr>\n",
       "      <th>2</th>\n",
       "      <td>1</td>\n",
       "      <td>0</td>\n",
       "      <td>Allison, Miss. Helen Loraine</td>\n",
       "      <td>female</td>\n",
       "      <td>2.0000</td>\n",
       "      <td>1</td>\n",
       "      <td>2</td>\n",
       "      <td>113781</td>\n",
       "      <td>151.5500</td>\n",
       "      <td>S</td>\n",
       "      <td>True</td>\n",
       "    </tr>\n",
       "    <tr>\n",
       "      <th>94</th>\n",
       "      <td>1</td>\n",
       "      <td>1</td>\n",
       "      <td>Dodge, Master. Washington</td>\n",
       "      <td>male</td>\n",
       "      <td>4.0000</td>\n",
       "      <td>0</td>\n",
       "      <td>2</td>\n",
       "      <td>33638</td>\n",
       "      <td>81.8583</td>\n",
       "      <td>S</td>\n",
       "      <td>True</td>\n",
       "    </tr>\n",
       "    <tr>\n",
       "      <th>273</th>\n",
       "      <td>1</td>\n",
       "      <td>1</td>\n",
       "      <td>Spedden, Master. Robert Douglas</td>\n",
       "      <td>male</td>\n",
       "      <td>6.0000</td>\n",
       "      <td>0</td>\n",
       "      <td>2</td>\n",
       "      <td>16966</td>\n",
       "      <td>134.5000</td>\n",
       "      <td>C</td>\n",
       "      <td>True</td>\n",
       "    </tr>\n",
       "    <tr>\n",
       "      <th>339</th>\n",
       "      <td>2</td>\n",
       "      <td>1</td>\n",
       "      <td>Becker, Master. Richard F</td>\n",
       "      <td>male</td>\n",
       "      <td>1.0000</td>\n",
       "      <td>2</td>\n",
       "      <td>1</td>\n",
       "      <td>230136</td>\n",
       "      <td>39.0000</td>\n",
       "      <td>S</td>\n",
       "      <td>True</td>\n",
       "    </tr>\n",
       "    <tr>\n",
       "      <th>...</th>\n",
       "      <td>...</td>\n",
       "      <td>...</td>\n",
       "      <td>...</td>\n",
       "      <td>...</td>\n",
       "      <td>...</td>\n",
       "      <td>...</td>\n",
       "      <td>...</td>\n",
       "      <td>...</td>\n",
       "      <td>...</td>\n",
       "      <td>...</td>\n",
       "      <td>...</td>\n",
       "    </tr>\n",
       "    <tr>\n",
       "      <th>1206</th>\n",
       "      <td>3</td>\n",
       "      <td>0</td>\n",
       "      <td>Skoog, Master. Harald</td>\n",
       "      <td>male</td>\n",
       "      <td>4.0000</td>\n",
       "      <td>3</td>\n",
       "      <td>2</td>\n",
       "      <td>347088</td>\n",
       "      <td>27.9000</td>\n",
       "      <td>S</td>\n",
       "      <td>True</td>\n",
       "    </tr>\n",
       "    <tr>\n",
       "      <th>1209</th>\n",
       "      <td>3</td>\n",
       "      <td>0</td>\n",
       "      <td>Skoog, Miss. Margit Elizabeth</td>\n",
       "      <td>female</td>\n",
       "      <td>2.0000</td>\n",
       "      <td>3</td>\n",
       "      <td>2</td>\n",
       "      <td>347088</td>\n",
       "      <td>27.9000</td>\n",
       "      <td>S</td>\n",
       "      <td>True</td>\n",
       "    </tr>\n",
       "    <tr>\n",
       "      <th>1230</th>\n",
       "      <td>3</td>\n",
       "      <td>0</td>\n",
       "      <td>Strom, Miss. Telma Matilda</td>\n",
       "      <td>female</td>\n",
       "      <td>2.0000</td>\n",
       "      <td>0</td>\n",
       "      <td>1</td>\n",
       "      <td>347054</td>\n",
       "      <td>10.4625</td>\n",
       "      <td>S</td>\n",
       "      <td>True</td>\n",
       "    </tr>\n",
       "    <tr>\n",
       "      <th>1240</th>\n",
       "      <td>3</td>\n",
       "      <td>1</td>\n",
       "      <td>Thomas, Master. Assad Alexander</td>\n",
       "      <td>male</td>\n",
       "      <td>0.4167</td>\n",
       "      <td>0</td>\n",
       "      <td>1</td>\n",
       "      <td>2625</td>\n",
       "      <td>8.5167</td>\n",
       "      <td>C</td>\n",
       "      <td>True</td>\n",
       "    </tr>\n",
       "    <tr>\n",
       "      <th>1256</th>\n",
       "      <td>3</td>\n",
       "      <td>1</td>\n",
       "      <td>Touma, Master. Georges Youssef</td>\n",
       "      <td>male</td>\n",
       "      <td>7.0000</td>\n",
       "      <td>1</td>\n",
       "      <td>1</td>\n",
       "      <td>2650</td>\n",
       "      <td>15.2458</td>\n",
       "      <td>C</td>\n",
       "      <td>True</td>\n",
       "    </tr>\n",
       "  </tbody>\n",
       "</table>\n",
       "<p>72 rows × 11 columns</p>\n",
       "</div>"
      ],
      "text/plain": [
       "      pclass  survived                             name     sex     age  \\\n",
       "1          1         1   Allison, Master. Hudson Trevor    male  0.9167   \n",
       "2          1         0     Allison, Miss. Helen Loraine  female  2.0000   \n",
       "94         1         1        Dodge, Master. Washington    male  4.0000   \n",
       "273        1         1  Spedden, Master. Robert Douglas    male  6.0000   \n",
       "339        2         1        Becker, Master. Richard F    male  1.0000   \n",
       "...      ...       ...                              ...     ...     ...   \n",
       "1206       3         0            Skoog, Master. Harald    male  4.0000   \n",
       "1209       3         0    Skoog, Miss. Margit Elizabeth  female  2.0000   \n",
       "1230       3         0       Strom, Miss. Telma Matilda  female  2.0000   \n",
       "1240       3         1  Thomas, Master. Assad Alexander    male  0.4167   \n",
       "1256       3         1   Touma, Master. Georges Youssef    male  7.0000   \n",
       "\n",
       "      sibsp  parch  ticket      fare embarked  child  \n",
       "1         1      2  113781  151.5500        S   True  \n",
       "2         1      2  113781  151.5500        S   True  \n",
       "94        0      2   33638   81.8583        S   True  \n",
       "273       0      2   16966  134.5000        C   True  \n",
       "339       2      1  230136   39.0000        S   True  \n",
       "...     ...    ...     ...       ...      ...    ...  \n",
       "1206      3      2  347088   27.9000        S   True  \n",
       "1209      3      2  347088   27.9000        S   True  \n",
       "1230      0      1  347054   10.4625        S   True  \n",
       "1240      0      1    2625    8.5167        C   True  \n",
       "1256      1      1    2650   15.2458        C   True  \n",
       "\n",
       "[72 rows x 11 columns]"
      ]
     },
     "execution_count": 29,
     "metadata": {},
     "output_type": "execute_result"
    }
   ],
   "source": [
    "df['child'] = df['age'] < 9\n",
    "\n",
    "df[df['child']]"
   ]
  },
  {
   "cell_type": "code",
   "execution_count": 30,
   "metadata": {},
   "outputs": [
    {
     "data": {
      "text/plain": [
       "child\n",
       "False    0.367017\n",
       "True     0.638889\n",
       "Name: survived, dtype: float64"
      ]
     },
     "execution_count": 30,
     "metadata": {},
     "output_type": "execute_result"
    }
   ],
   "source": [
    "df.groupby('child').survived.mean()"
   ]
  },
  {
   "cell_type": "markdown",
   "metadata": {},
   "source": [
    "## Classes\n",
    "\n",
    "The overaching task this year is a simplified detector simulation and analysis.\n",
    "\n",
    "Much of the structure will be predefined, with exercises \"filling in blanks\".\n",
    "\n",
    "\n",
    "To understand the structure, some understanding of python classes and tests is helpful\n",
    "\n",
    "Docs: https://docs.python.org/3/reference/datamodel.html\n",
    "\n",
    "This is a **very** short primer"
   ]
  },
  {
   "cell_type": "code",
   "execution_count": 31,
   "metadata": {},
   "outputs": [],
   "source": [
    "class Detector:\n",
    "    \n",
    "    # special method to initialize a new instance of a class\n",
    "    def __init__(self, width, height):\n",
    "        self.width = width\n",
    "        self.height = height"
   ]
  },
  {
   "cell_type": "code",
   "execution_count": 32,
   "metadata": {},
   "outputs": [
    {
     "name": "stdout",
     "output_type": "stream",
     "text": [
      "10 5\n"
     ]
    }
   ],
   "source": [
    "detector = Detector(width=10, height=5)\n",
    "\n",
    "print(detector.width, detector.height)"
   ]
  },
  {
   "cell_type": "markdown",
   "metadata": {},
   "source": [
    "One possible exercise could be to implement a method checking if a particle hits the detector.\n",
    "\n",
    "Let the coordinate system be defined as follows:\n",
    "* Lower left corner of the detector is at (0, 0)\n",
    "* width along x\n",
    "* height along y\n",
    "\n",
    "\n",
    "The given structure could then be:"
   ]
  },
  {
   "cell_type": "code",
   "execution_count": 33,
   "metadata": {},
   "outputs": [],
   "source": [
    "class Detector:\n",
    "    def __init__(self, width, height):\n",
    "        self.width = width\n",
    "        self.height = height\n",
    "        \n",
    "    def is_inside(self, x, y):\n",
    "        # this is to make the function work without error,\n",
    "        # but it does not give the correct answer yet\n",
    "        inside = False\n",
    "        ###### Implement your solution between here #######\n",
    "\n",
    "        ###### and here #######\n",
    "        return inside"
   ]
  },
  {
   "cell_type": "markdown",
   "metadata": {},
   "source": [
    "We will provide tests for most of these, where you can check if your implementation\n",
    "is correct. For this, we use pytest:\n",
    "\n",
    "* Docs: https://docs.pytest.org/en/stable/\n",
    "* Lecture on testing with pytest from the Escape School 2021: https://www.youtube.com/watch?v=pGg97d8TQuY"
   ]
  },
  {
   "cell_type": "code",
   "execution_count": 34,
   "metadata": {},
   "outputs": [
    {
     "ename": "AssertionError",
     "evalue": "(2, 2) should be inside",
     "output_type": "error",
     "traceback": [
      "\u001b[0;31m---------------------------------------------------------------------------\u001b[0m",
      "\u001b[0;31mAssertionError\u001b[0m                            Traceback (most recent call last)",
      "Cell \u001b[0;32mIn[34], line 13\u001b[0m\n\u001b[1;32m     10\u001b[0m     \u001b[38;5;28;01massert\u001b[39;00m d\u001b[38;5;241m.\u001b[39mis_inside(\u001b[38;5;241m5\u001b[39m, \u001b[38;5;241m5\u001b[39m), \u001b[38;5;124m'\u001b[39m\u001b[38;5;124m(0, 0) should be inside\u001b[39m\u001b[38;5;124m'\u001b[39m\n\u001b[1;32m     11\u001b[0m     \u001b[38;5;28mprint\u001b[39m(\u001b[38;5;124m\"\u001b[39m\u001b[38;5;124mtest passed\u001b[39m\u001b[38;5;124m\"\u001b[39m)\n\u001b[0;32m---> 13\u001b[0m \u001b[43mtest_is_inside\u001b[49m\u001b[43m(\u001b[49m\u001b[43m)\u001b[49m\n",
      "Cell \u001b[0;32mIn[34], line 5\u001b[0m, in \u001b[0;36mtest_is_inside\u001b[0;34m()\u001b[0m\n\u001b[1;32m      1\u001b[0m \u001b[38;5;28;01mdef\u001b[39;00m \u001b[38;5;21mtest_is_inside\u001b[39m():\n\u001b[1;32m      2\u001b[0m     \u001b[38;5;66;03m# a test function to be used with `pytest`\u001b[39;00m\n\u001b[1;32m      3\u001b[0m     d \u001b[38;5;241m=\u001b[39m Detector(\u001b[38;5;241m5\u001b[39m, \u001b[38;5;241m5\u001b[39m)\n\u001b[0;32m----> 5\u001b[0m     \u001b[38;5;28;01massert\u001b[39;00m d\u001b[38;5;241m.\u001b[39mis_inside(\u001b[38;5;241m2\u001b[39m, \u001b[38;5;241m2\u001b[39m), \u001b[38;5;124m'\u001b[39m\u001b[38;5;124m(2, 2) should be inside\u001b[39m\u001b[38;5;124m'\u001b[39m\n\u001b[1;32m      6\u001b[0m     \u001b[38;5;28;01massert\u001b[39;00m \u001b[38;5;129;01mnot\u001b[39;00m d\u001b[38;5;241m.\u001b[39mis_inside(\u001b[38;5;241m10\u001b[39m, \u001b[38;5;241m10\u001b[39m), \u001b[38;5;124m'\u001b[39m\u001b[38;5;124m(10, 10) should not be inside\u001b[39m\u001b[38;5;124m'\u001b[39m\n\u001b[1;32m      8\u001b[0m     \u001b[38;5;66;03m# test \"edge cases\", this time, literally\u001b[39;00m\n",
      "\u001b[0;31mAssertionError\u001b[0m: (2, 2) should be inside"
     ]
    }
   ],
   "source": [
    "def test_is_inside():\n",
    "    # a test function to be used with `pytest`\n",
    "    d = Detector(5, 5)\n",
    "\n",
    "    assert d.is_inside(2, 2), '(2, 2) should be inside'\n",
    "    assert not d.is_inside(10, 10), '(10, 10) should not be inside'\n",
    "\n",
    "    # test \"edge cases\", this time, literally\n",
    "    assert d.is_inside(0, 0), '(0, 0) should be inside'\n",
    "    assert d.is_inside(5, 5), '(0, 0) should be inside'\n",
    "    print(\"test passed\")\n",
    "    \n",
    "test_is_inside()"
   ]
  },
  {
   "cell_type": "markdown",
   "metadata": {},
   "source": [
    "In Python, we can implement \"special\" operations on our class using *magic* methods,\n",
    "which are defined in the data model and for example make operator overloading possible.\n",
    "\n",
    "These methods always start and end with `__` (double-underscore, \"dunder\")\n",
    "\n",
    "See: https://docs.python.org/3/reference/datamodel.html"
   ]
  },
  {
   "cell_type": "code",
   "execution_count": 35,
   "metadata": {},
   "outputs": [
    {
     "name": "stdout",
     "output_type": "stream",
     "text": [
      "<__main__.Detector object at 0x7f457d27dee0>\n"
     ]
    }
   ],
   "source": [
    "print(Detector(10, 5))"
   ]
  },
  {
   "cell_type": "code",
   "execution_count": 36,
   "metadata": {},
   "outputs": [],
   "source": [
    "class Detector:\n",
    "    def __init__(self, width, height):\n",
    "        self.width = width\n",
    "        self.height = height\n",
    "\n",
    "    def __repr__(self):\n",
    "        '''This methods enables conversion to a representation str, e.g. for printing'''\n",
    "        return f'{self.__class__.__name__}(width={self.width}, height={self.height})'"
   ]
  },
  {
   "cell_type": "code",
   "execution_count": 37,
   "metadata": {},
   "outputs": [
    {
     "name": "stdout",
     "output_type": "stream",
     "text": [
      "Detector(width=10, height=5)\n"
     ]
    }
   ],
   "source": [
    "d = Detector(10, 5)\n",
    "print(d)"
   ]
  }
 ],
 "metadata": {
  "kernelspec": {
   "display_name": "Python 3 (ipykernel)",
   "language": "python",
   "name": "python3"
  },
  "language_info": {
   "codemirror_mode": {
    "name": "ipython",
    "version": 3
   },
   "file_extension": ".py",
   "mimetype": "text/x-python",
   "name": "python",
   "nbconvert_exporter": "python",
   "pygments_lexer": "ipython3",
   "version": "3.12.3"
  }
 },
 "nbformat": 4,
 "nbformat_minor": 4
}
